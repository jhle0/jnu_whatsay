{
 "cells": [
  {
   "cell_type": "code",
   "execution_count": 4,
   "metadata": {},
   "outputs": [
    {
     "ename": "ModuleNotFoundError",
     "evalue": "No module named 'tensorflow'",
     "output_type": "error",
     "traceback": [
      "\u001b[0;31m---------------------------------------------------------------------------\u001b[0m",
      "\u001b[0;31mModuleNotFoundError\u001b[0m                       Traceback (most recent call last)",
      "Cell \u001b[0;32mIn[4], line 1\u001b[0m\n\u001b[0;32m----> 1\u001b[0m \u001b[38;5;28;01mimport\u001b[39;00m \u001b[38;5;21;01mtensorflow\u001b[39;00m \u001b[38;5;28;01mas\u001b[39;00m \u001b[38;5;21;01mtf\u001b[39;00m\n\u001b[1;32m      2\u001b[0m \u001b[38;5;28;01mfrom\u001b[39;00m \u001b[38;5;21;01mkeras\u001b[39;00m\u001b[38;5;21;01m.\u001b[39;00m\u001b[38;5;21;01mpreprocessing\u001b[39;00m\u001b[38;5;21;01m.\u001b[39;00m\u001b[38;5;21;01mtext\u001b[39;00m \u001b[38;5;28;01mimport\u001b[39;00m Tokenizer\n\u001b[1;32m      3\u001b[0m \u001b[38;5;28;01mfrom\u001b[39;00m \u001b[38;5;21;01mkeras\u001b[39;00m\u001b[38;5;21;01m.\u001b[39;00m\u001b[38;5;21;01mpreprocessing\u001b[39;00m\u001b[38;5;21;01m.\u001b[39;00m\u001b[38;5;21;01msequence\u001b[39;00m \u001b[38;5;28;01mimport\u001b[39;00m pad_sequences\n",
      "\u001b[0;31mModuleNotFoundError\u001b[0m: No module named 'tensorflow'"
     ]
    }
   ],
   "source": [
    "import tensorflow as tf\n",
    "from keras.preprocessing.text import Tokenizer\n",
    "from keras.preprocessing.sequence import pad_sequences\n",
    "import numpy as np\n",
    "from sklearn.preprocessing import LabelEncoder\n",
    "from konlpy.tag import Okt\n",
    "import re\n",
    "\n",
    "# model load\n",
    "model = tf.keras.models.load_model('./recog_situation_model.h5')\n",
    "\n",
    "# input text\n",
    "input_text = input(\"write test text : \")\n",
    "\n",
    "# 한국어 전처리 함수 정의\n",
    "def preprocess_korean_text(text):\n",
    "    # 한국어 형태소 분석기 (KoNLPy)를 사용하여 토큰화\n",
    "    okt = Okt()\n",
    "    words = okt.morphs(text, stem=True)\n",
    "    text = ' '.join(words)\n",
    "    \n",
    "    # 특수 문자, 숫자, 공백 제거\n",
    "    text = re.sub(r'[^가-힣\\s]', '', text)\n",
    "    text = ' '.join(text.split())  # 중복 공백 제거\n",
    "    \n",
    "    # 불용어 제거\n",
    "    stopwords = ['을', '를', '이', '가', '은', '는', '에서', '에게', '에', '로', '으로', '도', '한', '그', '고', '와', '듯', '듯이', '만', '밖에']\n",
    "    tokens = text.split()\n",
    "    tokens = [word for word in tokens if word not in stopwords]\n",
    "    text = ' '.join(tokens)\n",
    "\n",
    "    return text\n",
    "\n",
    "# 텍스트 열에 전처리 함수 적용\n",
    "input_text = preprocess_korean_text(input_text)\n",
    "\n",
    "# Tokenizing\n",
    "tokenizer = Tokenizer()\n",
    "tokenizer.fit_on_texts([input_text])\n",
    "\n",
    "input_sequence = tokenizer.texts_to_sequences([input_text])\n",
    "input_sequence = pad_sequences(input_sequence, maxlen=50)\n",
    "\n",
    "print(\"전처리 결과: \" + input_text)\n",
    "\n",
    "# predict\n",
    "prediction = model.predict(input_sequence)\n",
    "print(\"predicted result:\", prediction)\n",
    "\n",
    "for i in prediction:\n",
    "    pre_ans = i.argmax()  # maximum class\n",
    "if pre_ans == 0: print(\"주제: 음식\")\n",
    "if pre_ans == 1: print(\"주제: IT\")\n",
    "if pre_ans == 2: print(\"주제: 학교 수업\")\n",
    "if pre_ans == 3: print(\"주제: 운동\")\n"
   ]
  }
 ],
 "metadata": {
  "kernelspec": {
   "display_name": "Python 3",
   "language": "python",
   "name": "python3"
  },
  "language_info": {
   "codemirror_mode": {
    "name": "ipython",
    "version": 3
   },
   "file_extension": ".py",
   "mimetype": "text/x-python",
   "name": "python",
   "nbconvert_exporter": "python",
   "pygments_lexer": "ipython3",
   "version": "3.11.5"
  },
  "orig_nbformat": 4
 },
 "nbformat": 4,
 "nbformat_minor": 2
}
