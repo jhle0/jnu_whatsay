{
 "cells": [
  {
   "cell_type": "code",
   "execution_count": 1,
   "metadata": {},
   "outputs": [
    {
     "ename": "ModuleNotFoundError",
     "evalue": "No module named 'numpy'",
     "output_type": "error",
     "traceback": [
      "\u001b[0;31m---------------------------------------------------------------------------\u001b[0m",
      "\u001b[0;31mModuleNotFoundError\u001b[0m                       Traceback (most recent call last)",
      "Cell \u001b[0;32mIn[1], line 1\u001b[0m\n\u001b[0;32m----> 1\u001b[0m \u001b[38;5;28;01mimport\u001b[39;00m \u001b[38;5;21;01mnumpy\u001b[39;00m \u001b[38;5;28;01mas\u001b[39;00m \u001b[38;5;21;01mnp\u001b[39;00m\n\u001b[1;32m      2\u001b[0m \u001b[38;5;28;01mimport\u001b[39;00m \u001b[38;5;21;01mpandas\u001b[39;00m \u001b[38;5;28;01mas\u001b[39;00m \u001b[38;5;21;01mpd\u001b[39;00m\n\u001b[1;32m      3\u001b[0m \u001b[38;5;28;01mimport\u001b[39;00m \u001b[38;5;21;01mcsv\u001b[39;00m\n",
      "\u001b[0;31mModuleNotFoundError\u001b[0m: No module named 'numpy'"
     ]
    }
   ],
   "source": [
    "import numpy as np\n",
    "import pandas as pd\n",
    "import csv\n",
    "from keras.models import Sequential\n",
    "from keras.layers import Embedding, LSTM, Dense\n",
    "from keras.preprocessing.text import Tokenizer\n",
    "from keras.preprocessing.sequence import pad_sequences\n",
    "from sklearn.model_selection import train_test_split\n",
    "import matplotlib.pyplot as plt\n",
    "import re\n",
    "\n",
    "# data load, preprocessing\n",
    "data = pd.read_csv('./dataset.txt', sep = \",\", quoting=csv.QUOTE_NONE, encoding='utf-8')\n",
    "texts = data['text_column']\n",
    "labels = data['label_column']\n"
   ]
  },
  {
   "cell_type": "code",
   "execution_count": 49,
   "metadata": {},
   "outputs": [],
   "source": [
    "from konlpy.tag import Okt\n",
    "\n",
    "# 한국어 전처리 함수 정의\n",
    "def preprocess_korean_text(text):\n",
    "    # 한국어 형태소 분석기 (KoNLPy)를 사용하여 토큰화\n",
    "    okt = Okt()\n",
    "    words = okt.morphs(text, stem=True)\n",
    "    text = ' '.join(words)\n",
    "    \n",
    "    # 특수 문자, 숫자, 공백 제거\n",
    "    text = re.sub(r'[^가-힣\\s]', '', text)\n",
    "    text = ' '.join(text.split())  # 중복 공백 제거\n",
    "    \n",
    "    # 불용어 제거\n",
    "    stopwords = ['을', '를', '이', '가', '은', '는', '에서', '에게', '에', '로', '으로', '도', '한', '그', '고', '와', '듯', '듯이', '만', '밖에']\n",
    "    tokens = text.split()\n",
    "    tokens = [word for word in tokens if word not in stopwords]\n",
    "    text = ' '.join(tokens)\n",
    "\n",
    "    return text\n",
    "\n",
    "# 텍스트 열에 전처리 함수 적용\n",
    "texts = texts.apply(preprocess_korean_text)"
   ]
  },
  {
   "cell_type": "code",
   "execution_count": 50,
   "metadata": {},
   "outputs": [
    {
     "name": "stdout",
     "output_type": "stream",
     "text": [
      "amount of datas : 9460\n",
      "food_data : 3150\n",
      "it_data : 1786\n",
      "school_data : 2810\n",
      "sports_data : 1714\n"
     ]
    }
   ],
   "source": [
    "print(\"amount of datas : \" + str(texts.count()))\n",
    "\n",
    "amount_of_food = 0\n",
    "amount_of_it = 0\n",
    "amount_of_school = 0\n",
    "amount_of_sports = 0\n",
    "\n",
    "for i in labels:\n",
    "    if i == 0:\n",
    "        amount_of_food += 1\n",
    "    elif i == 1:\n",
    "        amount_of_it += 1\n",
    "    elif i == 2:\n",
    "        amount_of_school += 1\n",
    "    elif i == 3:\n",
    "        amount_of_sports += 1\n",
    "\n",
    "print(\"food_data : \" + str(amount_of_food) + \"\\nit_data : \" + str(amount_of_it) + \"\\nschool_data : \" + str(amount_of_school) + \"\\nsports_data : \" + str(amount_of_sports))"
   ]
  },
  {
   "cell_type": "code",
   "execution_count": 51,
   "metadata": {},
   "outputs": [
    {
     "name": "stdout",
     "output_type": "stream",
     "text": [
      "가끔 레스토랑 파스타 주문 하다 먹다\n"
     ]
    }
   ],
   "source": [
    "print(texts[0])"
   ]
  },
  {
   "cell_type": "code",
   "execution_count": 53,
   "metadata": {},
   "outputs": [],
   "source": [
    "# 한글 텍스트 형태소 분석\n",
    "from konlpy.tag import Okt\n",
    "okt = Okt()\n",
    "texts = texts.apply(lambda x: ' '.join(okt.morphs(x)))\n",
    "\n",
    "tokenizer = Tokenizer(num_words=500)\n",
    "tokenizer.fit_on_texts(texts)\n",
    "X = tokenizer.texts_to_sequences(texts)\n",
    "X = pad_sequences(X, maxlen=50)"
   ]
  },
  {
   "cell_type": "code",
   "execution_count": 54,
   "metadata": {},
   "outputs": [
    {
     "name": "stdout",
     "output_type": "stream",
     "text": [
      "떡볶이 치즈 얹다 더 맛있다\n"
     ]
    }
   ],
   "source": [
    "print(texts[560])"
   ]
  },
  {
   "cell_type": "code",
   "execution_count": 55,
   "metadata": {},
   "outputs": [
    {
     "name": "stdout",
     "output_type": "stream",
     "text": [
      "0       0\n",
      "1       0\n",
      "2       0\n",
      "3       0\n",
      "4       0\n",
      "       ..\n",
      "9455    3\n",
      "9456    3\n",
      "9457    3\n",
      "9458    3\n",
      "9459    3\n",
      "Name: label_column, Length: 9460, dtype: int64\n"
     ]
    }
   ],
   "source": [
    "print(labels)"
   ]
  },
  {
   "cell_type": "code",
   "execution_count": 56,
   "metadata": {},
   "outputs": [
    {
     "name": "stdout",
     "output_type": "stream",
     "text": [
      "NaN 값을 가지는 인덱스: (array([], dtype=int64),)\n",
      "무한대 값을 가지는 인덱스: (array([], dtype=int64),)\n"
     ]
    }
   ],
   "source": [
    "import numpy as np\n",
    "\n",
    "# NaN 또는 무한대 값을 가지는 인덱스 검사\n",
    "nan_indices = np.where(np.isnan(labels))\n",
    "inf_indices = np.where(np.isinf(labels))\n",
    "\n",
    "print(\"NaN 값을 가지는 인덱스:\", nan_indices)\n",
    "print(\"무한대 값을 가지는 인덱스:\", inf_indices)\n"
   ]
  },
  {
   "cell_type": "code",
   "execution_count": 57,
   "metadata": {},
   "outputs": [],
   "source": [
    "# multiclass label prepare\n",
    "from keras.utils import to_categorical\n",
    "\n",
    "mean_value = labels.mean()\n",
    "labels.fillna(mean_value, inplace=True)\n",
    "\n",
    "# labels 배열을 정수로 변환\n",
    "labels = labels.astype(int)\n",
    "y = to_categorical(labels, num_classes=4)  # amount of class"
   ]
  },
  {
   "cell_type": "code",
   "execution_count": 58,
   "metadata": {},
   "outputs": [
    {
     "name": "stdout",
     "output_type": "stream",
     "text": [
      "0                  가끔 레스토랑 파스타 주문 하다 먹다\n",
      "1               가끔 팝콘 과 함께 영화 보다 걸 좋아하다\n",
      "2       가장 기억 남다 가족 식사 나 친구 와의 모임 언제 이다\n",
      "3           가장 기억 남다 디저트 경험 공유 해주다 수 있다\n",
      "4                  가장 기억 남다 아침 식사 무엇 이다\n",
      "                     ...               \n",
      "9455                          휴식일 계획 하다\n",
      "9456       휴일 에는 가족 과 함께 야구 즐기다 것 일상 이다\n",
      "9457    휴일 에는 가족 과 함께 자전거 타다 즐겁다 시간 보내다\n",
      "9458     휴일 에는 자전거 타고 자연 속 탐험 하다 것 좋아하다\n",
      "9459                     운동 멘탈 힘 키우다 줍다\n",
      "Name: text_column, Length: 9460, dtype: object\n"
     ]
    }
   ],
   "source": [
    "print(texts)"
   ]
  },
  {
   "cell_type": "code",
   "execution_count": 59,
   "metadata": {},
   "outputs": [
    {
     "name": "stdout",
     "output_type": "stream",
     "text": [
      "Epoch 1/20\n",
      "61/61 [==============================] - 3s 20ms/step - loss: 1.2599 - accuracy: 0.4387 - val_loss: 1.1008 - val_accuracy: 0.7153\n",
      "Epoch 2/20\n",
      "61/61 [==============================] - 1s 14ms/step - loss: 0.9244 - accuracy: 0.7863 - val_loss: 0.7412 - val_accuracy: 0.8567\n",
      "Epoch 3/20\n",
      "61/61 [==============================] - 1s 14ms/step - loss: 0.5886 - accuracy: 0.8969 - val_loss: 0.4593 - val_accuracy: 0.9194\n",
      "Epoch 4/20\n",
      "61/61 [==============================] - 1s 14ms/step - loss: 0.3740 - accuracy: 0.9495 - val_loss: 0.3112 - val_accuracy: 0.9590\n",
      "Epoch 5/20\n",
      "61/61 [==============================] - 1s 15ms/step - loss: 0.2603 - accuracy: 0.9732 - val_loss: 0.2328 - val_accuracy: 0.9703\n",
      "Epoch 6/20\n",
      "61/61 [==============================] - 1s 15ms/step - loss: 0.1932 - accuracy: 0.9795 - val_loss: 0.1850 - val_accuracy: 0.9709\n",
      "Epoch 7/20\n",
      "61/61 [==============================] - 1s 15ms/step - loss: 0.1512 - accuracy: 0.9841 - val_loss: 0.1584 - val_accuracy: 0.9736\n",
      "Epoch 8/20\n",
      "61/61 [==============================] - 1s 14ms/step - loss: 0.1249 - accuracy: 0.9840 - val_loss: 0.1382 - val_accuracy: 0.9756\n",
      "Epoch 9/20\n",
      "61/61 [==============================] - 1s 13ms/step - loss: 0.1050 - accuracy: 0.9865 - val_loss: 0.1231 - val_accuracy: 0.9762\n",
      "Epoch 10/20\n",
      "61/61 [==============================] - 1s 13ms/step - loss: 0.0903 - accuracy: 0.9886 - val_loss: 0.1146 - val_accuracy: 0.9769\n",
      "Epoch 11/20\n",
      "61/61 [==============================] - 1s 13ms/step - loss: 0.0789 - accuracy: 0.9909 - val_loss: 0.1057 - val_accuracy: 0.9762\n",
      "Epoch 12/20\n",
      "61/61 [==============================] - 1s 13ms/step - loss: 0.0704 - accuracy: 0.9919 - val_loss: 0.1033 - val_accuracy: 0.9789\n",
      "Epoch 13/20\n",
      "61/61 [==============================] - 1s 13ms/step - loss: 0.0639 - accuracy: 0.9917 - val_loss: 0.0962 - val_accuracy: 0.9782\n",
      "Epoch 14/20\n",
      "61/61 [==============================] - 1s 14ms/step - loss: 0.0584 - accuracy: 0.9927 - val_loss: 0.0909 - val_accuracy: 0.9782\n",
      "Epoch 15/20\n",
      "61/61 [==============================] - 1s 14ms/step - loss: 0.0525 - accuracy: 0.9932 - val_loss: 0.0918 - val_accuracy: 0.9769\n",
      "Epoch 16/20\n",
      "61/61 [==============================] - 1s 14ms/step - loss: 0.0490 - accuracy: 0.9932 - val_loss: 0.0873 - val_accuracy: 0.9782\n",
      "Epoch 17/20\n",
      "61/61 [==============================] - 1s 14ms/step - loss: 0.0446 - accuracy: 0.9942 - val_loss: 0.0845 - val_accuracy: 0.9795\n",
      "Epoch 18/20\n",
      "61/61 [==============================] - 1s 13ms/step - loss: 0.0414 - accuracy: 0.9942 - val_loss: 0.0852 - val_accuracy: 0.9782\n",
      "Epoch 19/20\n",
      "61/61 [==============================] - 1s 13ms/step - loss: 0.0387 - accuracy: 0.9941 - val_loss: 0.0859 - val_accuracy: 0.9782\n",
      "{'loss': [1.2599087953567505, 0.9244328737258911, 0.5886354446411133, 0.37401455640792847, 0.26026925444602966, 0.19321207702159882, 0.15122611820697784, 0.12488177418708801, 0.10498480498790741, 0.09032121300697327, 0.07885951548814774, 0.07036831229925156, 0.06393737345933914, 0.05838244408369064, 0.052546270191669464, 0.0490216389298439, 0.044646065682172775, 0.04137035086750984, 0.038723066449165344], 'accuracy': [0.43871819972991943, 0.7862570285797119, 0.8969276547431946, 0.9494549036026001, 0.973240852355957, 0.9795176982879639, 0.9841427206993103, 0.9839775562286377, 0.9864552617073059, 0.9886025786399841, 0.9909151196479797, 0.9919061660766602, 0.9917410016059875, 0.9927321076393127, 0.9932276010513306, 0.9932276010513306, 0.9942187070846558, 0.9942187070846558, 0.9940535426139832], 'val_loss': [1.1007983684539795, 0.7411837577819824, 0.45932337641716003, 0.31119856238365173, 0.23278918862342834, 0.1850327104330063, 0.15844354033470154, 0.13817651569843292, 0.12313161790370941, 0.1145782470703125, 0.10568105429410934, 0.10328612476587296, 0.09622854739427567, 0.09094518423080444, 0.09175216406583786, 0.08727690577507019, 0.08449497818946838, 0.08518517017364502, 0.08589710295200348], 'val_accuracy': [0.7153236269950867, 0.8566710948944092, 0.9194187521934509, 0.959048867225647, 0.9702774286270142, 0.9709379076957703, 0.9735799431800842, 0.9755614399909973, 0.9762219190597534, 0.9768824577331543, 0.9762219190597534, 0.9788639545440674, 0.9782034158706665, 0.9782034158706665, 0.9768824577331543, 0.9782034158706665, 0.9795244336128235, 0.9782034158706665, 0.9782034158706665]}\n"
     ]
    },
    {
     "data": {
      "image/png": "[encoded data removed]",
      "text/plain": [
       "<Figure size 640x480 with 1 Axes>"
      ]
     },
     "metadata": {},
     "output_type": "display_data"
    },
    {
     "data": {
      "image/png": "[encoded data removed]",
      "text/plain": [
       "<Figure size 640x480 with 1 Axes>"
      ]
     },
     "metadata": {},
     "output_type": "display_data"
    },
    {
     "name": "stdout",
     "output_type": "stream",
     "text": [
      "60/60 [==============================] - 0s 3ms/step - loss: 0.0716 - accuracy: 0.9799\n",
      "Loss: 0.07159682363271713, Accuracy: 0.97991544008255\n",
      "학습된 모델이 저장되었습니다.\n"
     ]
    },
    {
     "name": "stderr",
     "output_type": "stream",
     "text": [
      "c:\\Users\\dargu\\AppData\\Local\\Programs\\Python\\Python39\\lib\\site-packages\\keras\\src\\engine\\training.py:3000: UserWarning: You are saving your model as an HDF5 file via `model.save()`. This file format is considered legacy. We recommend using instead the native Keras format, e.g. `model.save('my_model.keras')`.\n",
      "  saving_api.save_model(\n"
     ]
    }
   ],
   "source": [
    "# data divising\n",
    "X_train, X_test, y_train, y_test = train_test_split(X, y, test_size=0.2, random_state=42)\n",
    "\n",
    "# model structure\n",
    "model = Sequential()\n",
    "model.add(Embedding(input_dim=500, output_dim=64, input_length=50))\n",
    "model.add(LSTM(4))\n",
    "model.add(Dense(4, activation='softmax'))  # print softmax of 4 class\n",
    "\n",
    "# compile\n",
    "model.compile(loss='categorical_crossentropy', optimizer='adam', metrics=['accuracy'])\n",
    "\n",
    "# train\n",
    "from keras.callbacks import EarlyStopping \n",
    "early_stopping = EarlyStopping(patience = 2) # protect overfitting\n",
    "\n",
    "history = model.fit(X_train, y_train, epochs=20, batch_size=100, validation_split=0.2, verbose=1, callbacks = [early_stopping])\n",
    "print(history.history)\n",
    "\n",
    "# training visualizing (accuracy)\n",
    "plt.plot(history.history['accuracy'])\n",
    "plt.plot(history.history['val_accuracy'])\n",
    "plt.title('Model accuracy')\n",
    "plt.xlabel('Epoch')\n",
    "plt.ylabel('Accuracy')\n",
    "plt.legend(['Train', 'Test'], loc='upper left')\n",
    "plt.show()\n",
    "\n",
    "#training visualizing (loss)\n",
    "plt.plot(history.history['loss'])\n",
    "plt.plot(history.history['val_loss'])\n",
    "plt.title('Model loss')\n",
    "plt.xlabel('Epoch')\n",
    "plt.ylabel('Loss')\n",
    "plt.legend(['Train', 'Test'], loc='upper left')\n",
    "plt.show()\n",
    "\n",
    "# evaluate\n",
    "loss, accuracy = model.evaluate(X_test, y_test)\n",
    "print(f'Loss: {loss}, Accuracy: {accuracy}')\n",
    "\n",
    "# model save\n",
    "model.save('./recog_situation_model.h5')\n",
    "print(\"학습된 모델이 저장되었습니다.\")"
   ]
  },
  {
   "cell_type": "code",
   "execution_count": 60,
   "metadata": {},
   "outputs": [
    {
     "name": "stdout",
     "output_type": "stream",
     "text": [
      "Model: \"sequential_5\"\n",
      "_________________________________________________________________\n",
      " Layer (type)                Output Shape              Param #   \n",
      "=================================================================\n",
      " embedding_5 (Embedding)     (None, 50, 64)            32000     \n",
      "                                                                 \n",
      " lstm_5 (LSTM)               (None, 4)                 1104      \n",
      "                                                                 \n",
      " dense_5 (Dense)             (None, 4)                 20        \n",
      "                                                                 \n",
      "=================================================================\n",
      "Total params: 33124 (129.39 KB)\n",
      "Trainable params: 33124 (129.39 KB)\n",
      "Non-trainable params: 0 (0.00 Byte)\n",
      "_________________________________________________________________\n"
     ]
    }
   ],
   "source": [
    "model.summary()"
   ]
  }
 ],
 "metadata": {
  "kernelspec": {
   "display_name": "Python 3",
   "language": "python",
   "name": "python3"
  },
  "language_info": {
   "codemirror_mode": {
    "name": "ipython",
    "version": 3
   },
   "file_extension": ".py",
   "mimetype": "text/x-python",
   "name": "python",
   "nbconvert_exporter": "python",
   "pygments_lexer": "ipython3",
   "version": "3.11.5"
  },
  "orig_nbformat": 4
 },
 "nbformat": 4,
 "nbformat_minor": 2
}
