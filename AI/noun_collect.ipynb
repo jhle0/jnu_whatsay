{
 "cells": [
  {
   "cell_type": "code",
   "execution_count": 1,
   "metadata": {},
   "outputs": [
    {
     "ename": "ModuleNotFoundError",
     "evalue": "No module named 'numpy'",
     "output_type": "error",
     "traceback": [
      "\u001b[0;31m---------------------------------------------------------------------------\u001b[0m",
      "\u001b[0;31mModuleNotFoundError\u001b[0m                       Traceback (most recent call last)",
      "Cell \u001b[0;32mIn[1], line 3\u001b[0m\n\u001b[1;32m      1\u001b[0m \u001b[38;5;66;03m# 명사 단어들만 따로 모아줌\u001b[39;00m\n\u001b[0;32m----> 3\u001b[0m \u001b[38;5;28;01mimport\u001b[39;00m \u001b[38;5;21;01mnumpy\u001b[39;00m \u001b[38;5;28;01mas\u001b[39;00m \u001b[38;5;21;01mnp\u001b[39;00m\n\u001b[1;32m      4\u001b[0m \u001b[38;5;28;01mimport\u001b[39;00m \u001b[38;5;21;01mpandas\u001b[39;00m \u001b[38;5;28;01mas\u001b[39;00m \u001b[38;5;21;01mpd\u001b[39;00m\n\u001b[1;32m      5\u001b[0m \u001b[38;5;28;01mimport\u001b[39;00m \u001b[38;5;21;01mcsv\u001b[39;00m\n",
      "\u001b[0;31mModuleNotFoundError\u001b[0m: No module named 'numpy'"
     ]
    }
   ],
   "source": [
    "# 명사 단어들만 따로 모아줌\n",
    "\n",
    "import numpy as np\n",
    "import pandas as pd\n",
    "import csv\n",
    "from keras.models import Sequential\n",
    "from keras.layers import Embedding, LSTM, Dense\n",
    "from keras.preprocessing.text import Tokenizer\n",
    "from keras.preprocessing.sequence import pad_sequences\n",
    "from sklearn.model_selection import train_test_split\n",
    "from konlpy.tag import Okt\n",
    "import matplotlib.pyplot as plt\n",
    "import re\n",
    "\n",
    "# 데이터 로드\n",
    "data = pd.read_csv('./dataset.txt', sep=',', quoting=csv.QUOTE_NONE, encoding='utf-8')\n",
    "\n",
    "okt = Okt()\n",
    "\n",
    "# 클래스별 명사 배열 초기화\n",
    "num_classes = data['label_column'].nunique()\n",
    "noun_arrays = [[] for _ in range(num_classes)]\n",
    "\n",
    "# 데이터 순회\n",
    "for index, row in data.iterrows():\n",
    "    text = row['text_column']\n",
    "    label = row['label_column']\n",
    "    \n",
    "    # 텍스트를 명사로 분석\n",
    "    nouns = okt.nouns(text)\n",
    "    \n",
    "    # 불용어 처리\n",
    "    stopwords = ['을', '를', '이', '가', '은', '는', '에서', '에게', '에', '로', '으로', '도', '한', '그', '고', '와', '듯', '듯이', '만', '밖에']\n",
    "    nouns = [word for word in nouns if word not in stopwords]\n",
    "    \n",
    "    # 명사 배열에 추가\n",
    "    noun_arrays[label].extend(nouns)\n",
    "\n",
    "#print(\"전체 배열\" + str(noun_arrays) + \"\\n\")\n",
    "\n",
    "# 각 클래스에 대한 명사 배열 출력\n",
    "for i, noun_array in enumerate(noun_arrays):\n",
    "    print(f\"Class {i} Nouns:\", noun_array)\n",
    "\n",
    "print(noun_arrays[0][0])\n"
   ]
  }
 ],
 "metadata": {
  "kernelspec": {
   "display_name": "Python 3",
   "language": "python",
   "name": "python3"
  },
  "language_info": {
   "codemirror_mode": {
    "name": "ipython",
    "version": 3
   },
   "file_extension": ".py",
   "mimetype": "text/x-python",
   "name": "python",
   "nbconvert_exporter": "python",
   "pygments_lexer": "ipython3",
   "version": "3.11.5"
  }
 },
 "nbformat": 4,
 "nbformat_minor": 2
}
